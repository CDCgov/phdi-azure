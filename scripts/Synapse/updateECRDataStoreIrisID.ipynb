{
  "cells": [
    {
      "attachments": {},
      "cell_type": "markdown",
      "metadata": {},
      "source": [
        "### updateECRDatastoreIrisID\n",
        "This is the 2nd step to update the ECR datastore after receiving new MPI data from LAC, after updating the `person_id` in the `updateECRDatastorePersonID` notebook.\n",
        "\n",
        "This notebook joins the ECR datastore (`ecr`) and Person table from the Master Patient Index (`person`) on `person_id` to update the ECR datastore's `iris_id` with the most up-to-date `external_person_id` in the `person` table."
      ]
    },
    {
      "cell_type": "code",
      "execution_count": null,
      "metadata": {},
      "outputs": [],
      "source": [
        "pip install --upgrade pip"
      ]
    },
    {
      "cell_type": "code",
      "execution_count": null,
      "metadata": {
        "jupyter": {
          "outputs_hidden": true
        }
      },
      "outputs": [],
      "source": [
        "pip install psycopg2-binary azure-identity"
      ]
    },
    {
      "cell_type": "code",
      "execution_count": null,
      "metadata": {
        "jupyter": {
          "outputs_hidden": false,
          "source_hidden": false
        },
        "nteract": {
          "transient": {
            "deleting": false
          }
        }
      },
      "outputs": [],
      "source": [
        "import psycopg2\n",
        "from delta.tables import *\n",
        "from pyspark.sql.functions import *\n",
        "from azure.identity import DefaultAzureCredential"
      ]
    },
    {
      "cell_type": "code",
      "execution_count": null,
      "metadata": {
        "jupyter": {
          "outputs_hidden": false,
          "source_hidden": false
        },
        "nteract": {
          "transient": {
            "deleting": false
          }
        }
      },
      "outputs": [],
      "source": [
        "storage_account_name = \"$STORAGE_ACCOUNT\"\n",
        "ECR_DELTA_TABLE_FILE_PATH = f\"abfss://delta-tables@{storage_account_name}.dfs.core.windows.net/ecr-datastore\" # changed\n",
        "\n",
        "\n",
        "# Set your Key Vault information\n",
        "vault_name = \"$KEY_VAULT\"\n",
        "KEY_VAULT_URL = f\"https://{vault_name}.vault.azure.net\"\n",
        "\n",
        "vault_linked_service = \"$KEY_VAULT_LINKED_SERVICE\"\n",
        "credential = DefaultAzureCredential()\n",
        "db_password =  TokenLibrary.getSecret(vault_name,\"mpi-db-password\",vault_linked_service)\n",
        "\n",
        "# Database connection parameters\n",
        "DB_NAME = \"DibbsMpiDB\"\n",
        "DB_USER = \"postgres\"\n",
        "DB_HOST = \"$MPI_DB_HOST\"\n",
        "DB_PORT = \"5432\"\n",
        "DB_TABLE = \"person\"\n",
        "\n",
        "\n",
        "# Connect to the database\n",
        "conn = psycopg2.connect(\n",
        "    dbname=DB_NAME,\n",
        "    user=DB_USER,\n",
        "    password=db_password,\n",
        "    host=DB_HOST,\n",
        "    port=DB_PORT\n",
        ")\n",
        "\n",
        "# Create a cursor\n",
        "cur = conn.cursor()\n",
        "\n",
        "# Execute the query to get the list of tables in the database\n",
        "cur.execute(f\"\"\"\n",
        "    SELECT person_id, external_person_id\n",
        "    FROM {DB_TABLE};\n",
        "\"\"\")\n",
        "\n",
        "# Fetch the results\n",
        "data = cur.fetchall()\n",
        "data\n",
        "\n",
        "# Close the cursor and connection\n",
        "cur.close()\n",
        "conn.close()\n",
        "\n",
        "\n",
        "# Prep the MPI data for merging with ECR data \n",
        "columns=['person_id','external_person_id']\n",
        "person = spark.createDataFrame(data = data, schema = columns)\n",
        "\n",
        "\n",
        "# Load ecr Delta table\n",
        "ecr = DeltaTable.forPath(spark,ECR_DELTA_TABLE_FILE_PATH)\n",
        "\n",
        "# Update ecr data with `external_person_id` from MPI by joining on `person_id`\n",
        "ecr.alias(\"ecr\") \\\n",
        "  .merge(\n",
        "    person.alias(\"mpi_person\"),\n",
        "    \"ecr.person_id = mpi_person.person_id\") \\\n",
        "  .whenMatchedUpdate(set = { \"iris_id\": \"mpi_person.external_person_id\", \"iris_id_date_added\": date_format(current_timestamp(), 'yyyy-MM-dd') }) \\\n",
        "  .execute()\n"
      ]
    }
  ],
  "metadata": {
    "description": null,
    "kernel_info": {
      "name": "synapse_pyspark"
    },
    "kernelspec": {
      "display_name": "Synapse PySpark",
      "language": "Python",
      "name": "synapse_pyspark"
    },
    "language_info": {
      "name": "python"
    },
    "save_output": true,
    "synapse_widget": {
      "state": {},
      "version": "0.1"
    }
  },
  "nbformat": 4,
  "nbformat_minor": 2
}
