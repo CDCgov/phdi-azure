{
  "cells": [
    {
      "attachments": {},
      "cell_type": "markdown",
      "metadata": {},
      "source": [
        "### tabularizePatientTable\n",
        "This notebook extracts all data from the Patient table (`patient`) in the Master Patient Index and tabularizes the data into Lists of Lists of Lists (LoLoL)."
      ]
    },
    {
      "cell_type": "code",
      "execution_count": null,
      "metadata": {
        "jupyter": {
          "outputs_hidden": true
        }
      },
      "outputs": [],
      "source": [
        "pip install psycopg2-binary azure-identity phdi==1.0.6"
      ]
    },
    {
      "cell_type": "code",
      "execution_count": null,
      "metadata": {
        "jupyter": {
          "outputs_hidden": false,
          "source_hidden": false
        },
        "nteract": {
          "transient": {
            "deleting": false
          }
        }
      },
      "outputs": [],
      "source": [
        "import psycopg2\n",
        "from psycopg2.sql import Identifier, SQL\n",
        "from azure.identity import DefaultAzureCredential\n",
        "from phdi.linkage.postgres import DIBBsConnectorClient"
      ]
    },
    {
      "cell_type": "code",
      "execution_count": null,
      "metadata": {
        "jupyter": {
          "outputs_hidden": false,
          "source_hidden": false
        },
        "nteract": {
          "transient": {
            "deleting": false
          }
        }
      },
      "outputs": [],
      "source": [
        "# Set your Key Vault information\n",
        "vault_name = \"$KEY_VAULT\"\n",
        "KEY_VAULT_URL = f\"https://{vault_name}.vault.azure.net\"\n",
        "\n",
        "vault_linked_service = \"$KEY_VAULT_LINKED_SERVICE\"\n",
        "credential = DefaultAzureCredential()\n",
        "db_password =  TokenLibrary.getSecret(vault_name,\"mpi-db-password\",vault_linked_service)\n",
        "\n",
        "# Set up db_client\n",
        "DB_NAME = \"DibbsMpiDB\"\n",
        "DB_USER = \"postgres\"\n",
        "DB_HOST = \"$MPI_DB_HOST\"\n",
        "DB_PORT = \"5432\"\n",
        "DB_TABLE_PATIENT = \"patient\"\n",
        "DB_TABLE_PERSON= \"person\"\n",
        "\n",
        "db_client = DIBBsConnectorClient(database = DB_NAME, user = DB_USER, password = db_password, host= DB_HOST, port = DB_PORT, patient_table= DB_TABLE_PATIENT, person_table=DB_TABLE_PERSON)\n",
        "\n",
        "# Create a connection and a cursor\n",
        "conn = db_client.get_connection()\n",
        "cur = conn.cursor()\n",
        "\n",
        "# Generate query and data to extract all data from patient table\n",
        "def generate_query(db_client):\n",
        "    select_query_stubs = []\n",
        "    query_data = []\n",
        "    for key in db_client.fields_to_jsonpaths:\n",
        "        query = f\"jsonb_path_query_array(patient_resource,%s) as {key}\"\n",
        "        select_query_stubs.append(query)\n",
        "        query_data.append(db_client.fields_to_jsonpaths[key])\n",
        "\n",
        "    select_query = \"SELECT \" + \", \".join(stub for stub in select_query_stubs)\n",
        "\n",
        "    query = select_query + \" FROM {patient_table};\"\n",
        "    query = SQL(query).format(patient_table=Identifier(db_client.patient_table))\n",
        "    return query, query_data\n",
        "\n",
        "query, query_data = generate_query(db_client)\n",
        "\n",
        "# Execute query\n",
        "cur.execute(query, query_data)\n",
        "data = [list(row) for row in cur.fetchall()]\n",
        "\n",
        "# Format returned data as Lists of Lists of Lists (LoLoL)\n",
        "def format_data(data, db_client):\n",
        "    db_client._close_connections(db_conn=conn, db_cursor=cur)\n",
        "\n",
        "    data_cols = []\n",
        "    for key in sorted(list(db_client.fields_to_jsonpaths.keys())):\n",
        "        data_cols.append(key)\n",
        "    data.insert(0, data_cols)\n",
        "    return data\n",
        "\n",
        "formatted_data = format_data(data,db_client)"
      ]
    }
  ],
  "metadata": {
    "description": null,
    "kernel_info": {
      "name": "synapse_pyspark"
    },
    "kernelspec": {
      "display_name": "Synapse PySpark",
      "language": "Python",
      "name": "synapse_pyspark"
    },
    "language_info": {
      "name": "python"
    },
    "save_output": true,
    "synapse_widget": {
      "state": {},
      "version": "0.1"
    }
  },
  "nbformat": 4,
  "nbformat_minor": 2
}
