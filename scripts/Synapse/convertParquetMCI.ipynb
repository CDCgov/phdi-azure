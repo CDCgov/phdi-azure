{
  "cells": [
    {
      "cell_type": "code",
      "execution_count": null,
      "metadata": {
        "jupyter": {
          "outputs_hidden": true
        }
      },
      "outputs": [],
      "source": [
        "from pyspark.sql import SparkSession\n",
        "\n",
        "spark = SparkSession.builder.getOrCreate()\n",
        "\n",
        "# Set up file client\n",
        "account_name = \"$STORAGE_ACCOUNT\"\n",
        "mci_container_name = \"patient-data\"\n",
        "mci_extract_filename = \"MII.parquet\"\n",
        "mci_container_name = \"delta-tables\"\n",
        "mci_delta_table_path = \"MII\"\n",
        "mci_incoming_file_path = f\"abfss://{mci_container_name}@{account_name}.dfs.core.windows.net/{mci_extract_filename}\"\n",
        "mci_delta_table_path = f\"abfss://{mci_container_name}@{account_name}.dfs.core.windows.net/{mci_delta_table_path}\"\n",
        "\n",
        "\n",
        "def insert(mci_incoming_file_path,mci_delta_table_path):\n",
        "    df = spark.read.parquet(mci_incoming_file_path)\n",
        "    df.write.mode(\"append\").format(\"delta\").save(mci_delta_table_path)\n",
        "    spark.read.parquet(mci_delta_table_path).show(5)\n",
        "\n",
        "insert(mci_incoming_file_path,mci_delta_table_path)"
      ]
    }
  ],
  "metadata": {
    "description": null,
    "kernel_info": {
      "name": "synapse_pyspark"
    },
    "kernelspec": {
      "display_name": "Synapse PySpark",
      "language": "Python",
      "name": "synapse_pyspark"
    },
    "language_info": {
      "name": "python"
    },
    "save_output": true,
    "synapse_widget": {
      "state": {},
      "version": "0.1"
    }
  },
  "nbformat": 4,
  "nbformat_minor": 2
}
