{
  "cells": [
    {
      "cell_type": "code",
      "execution_count": null,
      "metadata": {
        "jupyter": {
          "outputs_hidden": true
        }
      },
      "outputs": [],
      "source": [
        "pip install azure-storage-file-datalake pyarrow"
      ]
    },
    {
      "cell_type": "code",
      "execution_count": null,
      "metadata": {
        "jupyter": {
          "outputs_hidden": false,
          "source_hidden": false
        },
        "nteract": {
          "transient": {
            "deleting": false
          }
        }
      },
      "outputs": [],
      "source": [
        "from azure.identity import ManagedIdentityCredential\n",
        "from azure.storage.filedatalake import DataLakeFileClient\n",
        "from azure.core.credentials import AccessToken\n",
        "import time\n",
        "import pyarrow.parquet as pq\n",
        "import pyarrow as pa\n",
        "import tempfile\n",
        "\n",
        "\n",
        "# Set up authentication\n",
        "class spoof_token:\n",
        "    def get_token(*args, **kwargs):\n",
        "        return AccessToken(\n",
        "            token=mssparkutils.credentials.getToken(audience=\"storage\"),\n",
        "            expires_on=int(time.time())+60*10\n",
        "        )\n",
        "\n",
        "credential = ManagedIdentityCredential()\n",
        "credential._credential = spoof_token()\n",
        "\n",
        "# Set up file client\n",
        "account_name = \"phdidevphi9d194c64\"\n",
        "file_system_name = \"source-data\"\n",
        "file_path = \"synthetic_patient_mci_seed_data.parquet\"\n",
        "mci_incoming_file_path = f\"abfss://{file_system_name}@{account_name}.dfs.core.windows.net/{file_path}\"\n",
        "mci_delta_table_path = f\"abfss://{file_system_name}@{account_name}.dfs.core.windows.net/delta/mci\"\n",
        "# file_client = DataLakeFileClient(account_url=f\"https://{account_name}.dfs.core.windows.net\",\n",
        "#                                  file_system_name=file_system_name,\n",
        "#                                  file_path=file_path,\n",
        "#                                  credential=credential)\n",
        "\n",
        "\n",
        "def insert(mci_incoming_file_path,mci_delta_table_path):\n",
        "    df = spark.read.parquet(mci_incoming_file_path)\n",
        "    df.write.mode(\"append\").format(\"parquet\").save(mci_delta_table_path)\n",
        "    spark.read.parquet(mci_delta_table_path).show(5)\n",
        "\n",
        "insert(mci_incoming_file_path,mci_delta_table_path)\n",
        "        \n",
        "# # This function inserts incoming MCI data into the MCI delta table\n",
        "# def insert(bytes):\n",
        "#     buffer = pa.BufferReader(bytes)\n",
        "#     parquet_file = pq.ParquetFile(buffer)\n",
        "#     with tempfile.TemporaryDirectory() as mci_delta_table: \n",
        "#         for row in parquet_file.iter_batches(batch_size=1):\n",
        "#             data = row.to_pylist()[0]\n",
        "#             # Append another DataFrame into the Parquet file\n",
        "#             spark.createDataFrame(\n",
        "#                 [{\"person_id\": data[\"person_id\"], \"incident_id\": data[\"incident_id\"],\"specimen_collection_date\": data[\"specimen_collection_date\"]}]\n",
        "#             ).write.mode(\"append\").format(\"parquet\").save(mci_delta_table)\n",
        "                \n",
        "#         spark.read.parquet(mci_delta_table).show()\n",
        "\n",
        "# # # # Download parquet file and convert\n",
        "# download = file_client.download_file()\n",
        "# bytes = download.readall()\n",
        "\n",
        "# insert(bytes)\n",
        "\n",
        "\n"
      ]
    }
  ],
  "metadata": {
    "description": null,
    "kernel_info": {
      "name": "synapse_pyspark"
    },
    "kernelspec": {
      "display_name": "Synapse PySpark",
      "language": "Python",
      "name": "synapse_pyspark"
    },
    "language_info": {
      "name": "python"
    },
    "save_output": true,
    "synapse_widget": {
      "state": {},
      "version": "0.1"
    }
  },
  "nbformat": 4,
  "nbformat_minor": 2
}
