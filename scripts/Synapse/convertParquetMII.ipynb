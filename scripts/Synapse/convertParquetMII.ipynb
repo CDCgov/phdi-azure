{
  "cells": [
    {
      "attachments": {},
      "cell_type": "markdown",
      "metadata": {},
      "source": [
        "### convertParquetMII\n",
        "\n",
        "This notebook converts a parquet file containing information"
      ]
    },
    {
      "cell_type": "code",
      "execution_count": null,
      "metadata": {
        "jupyter": {
          "outputs_hidden": true
        }
      },
      "outputs": [],
      "source": [
        "from pyspark.sql import SparkSession\n",
        "\n",
        "spark = SparkSession.builder.getOrCreate()\n",
        "\n",
        "# Set up file client\n",
        "account_name = \"$STORAGE_ACCOUNT\"\n",
        "mii_incoming_file_path = f\"abfss://patient-data@{account_name}.dfs.core.windows.net/MII.parquet\"\n",
        "mii_delta_table_path = f\"abfss://delta-tables@{account_name}.dfs.core.windows.net/MII\"\n",
        "\n",
        "\n",
        "def insert(mii_incoming_file_path,mii_delta_table_path):\n",
        "    df = spark.read.parquet(mii_incoming_file_path)\n",
        "    df.write.mode(\"append\").format(\"delta\").save(mii_delta_table_path)\n",
        "    spark.read.parquet(mii_delta_table_path).show(5)\n",
        "\n",
        "insert(mii_incoming_file_path,mii_delta_table_path)"
      ]
    }
  ],
  "metadata": {
    "description": null,
    "kernel_info": {
      "name": "synapse_pyspark"
    },
    "kernelspec": {
      "display_name": "Synapse PySpark",
      "language": "Python",
      "name": "synapse_pyspark"
    },
    "language_info": {
      "name": "python"
    },
    "save_output": true,
    "synapse_widget": {
      "state": {},
      "version": "0.1"
    }
  },
  "nbformat": 4,
  "nbformat_minor": 2
}
