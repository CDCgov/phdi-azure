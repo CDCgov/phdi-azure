{
  "cells": [
    {
      "cell_type": "code",
      "execution_count": null,
      "metadata": {
        "collapsed": false,
        "jupyter": {
          "outputs_hidden": false
        }
      },
      "outputs": [],
      "source": [
        "-- Merges the incident_id from the MCI onto the ecr data store if a matching ID has been found AND the ecr was generated within 90 days of the speciment collection date\n",
        "MERGE INTO delta.`/delta-tables/ecr_datastore` AS ecr\n",
        "USING delta.`/delta-tables/mci` AS mci\n",
        "ON ecr.iris_id = mci.person_id AND DATEDIFF(day,ecr.ecr_date,mci.specimen_collection_date) <= 90\n",
        "WHEN MATCHED \n",
        "    THEN UPDATE SET incident_id = mci.incident_id;"
      ]
    }
  ],
  "metadata": {
    "description": null,
    "kernel_info": {
      "name": "synapse_pyspark"
    },
    "kernelspec": {
      "display_name": "Synapse PySpark",
      "language": "Python",
      "name": "synapse_pyspark"
    },
    "language_info": {
      "name": "sql"
    },
    "save_output": true,
    "synapse_widget": {
      "state": {},
      "version": "0.1"
    }
  },
  "nbformat": 4,
  "nbformat_minor": 2
}
