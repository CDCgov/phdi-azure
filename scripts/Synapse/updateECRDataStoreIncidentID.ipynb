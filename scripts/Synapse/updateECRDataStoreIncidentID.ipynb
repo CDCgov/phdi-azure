{
  "cells": [
    {
      "cell_type": "code",
      "execution_count": null,
      "metadata": {
        "collapsed": false,
        "jupyter": {
          "outputs_hidden": false
        }
      },
      "outputs": [],
      "source": [
        "from pyspark.sql import SparkSession\n",
        "from delta.tables import *\n",
        "from pyspark.sql.functions import *\n",
        "\n",
        "ECR_DELTA_TABLE_FILE_PATH = \"/delta-tables/ecr_datastore\"\n",
        "MCI_DELTA_TABLE_FILE_PATH = \"/delta-tables/mci\"\n",
        "COVID_IDENTIFICATION_CONFIG_FILE_PATH = \"/config/covid_identification_config.json\"\n",
        "\n",
        "spark = SparkSession.builder.getOrCreate()\n",
        "\n",
        "# Read in data\n",
        "ecr = spark.read.format(\"delta\").load(ECR_DELTA_TABLE_FILE_PATH)\n",
        "mci = spark.read.format(\"delta\").load(MCI_DELTA_TABLE_FILE_PATH).select(\"incident_id\",\"person_id\",\"specimen_collection_date\").withColumnRenamed(\"incident_id\",\"incident_id_mci\").withColumnRenamed(\"person_id\",\"person_id_mci\").withColumnRenamed(\"specimen_collection_date\",\"specimen_collection_date_mci\")\n",
        "\n",
        "# Covid identification data\n",
        "df = spark.read.json(COVID_IDENTIFICATION_CONFIG_FILE_PATH)\n",
        "covid_conditions=df.select('covid_conditions').rdd.flatMap(lambda x: x).collect()[0]\n",
        "covid_test_types = df.select('covid_test_types').rdd.flatMap(lambda x: x).collect()[0]\n",
        "covid_positive_results = df.select('covid_positive_results').rdd.flatMap(lambda x: x).collect()[0]"
      ]
    },
    {
      "cell_type": "code",
      "execution_count": null,
      "metadata": {
        "jupyter": {
          "outputs_hidden": false,
          "source_hidden": false
        },
        "nteract": {
          "transient": {
            "deleting": false
          }
        }
      },
      "outputs": [],
      "source": [
        "# Add `comparison_date` column to ecr data ahead of join with mci to find positive covid tests\n",
        "ecr = ecr.withColumn(\"comparison_date\",\n",
        "    when((lower(ecr.test_type_1).isin(covid_test_types) & lower(ecr.test_result_1).isin(covid_positive_results) & lower(ecr.conditions).isin(covid_conditions)), ecr.specimen_collection_date_1)\n",
        "    .when((lower(ecr.test_type_2).isin(covid_test_types) & lower(ecr.test_result_2).isin(covid_positive_results) & lower(ecr.conditions).isin(covid_conditions)), ecr.specimen_collection_date_2)\n",
        "    .when((lower(ecr.test_type_3).isin(covid_test_types) & lower(ecr.test_result_3).isin(covid_positive_results) & lower(ecr.conditions).isin(covid_conditions)), ecr.specimen_collection_date_3)\n",
        "    .when((lower(ecr.test_type_4).isin(covid_test_types) & lower(ecr.test_result_4).isin(covid_positive_results) & lower(ecr.conditions).isin(covid_conditions)), ecr.specimen_collection_date_4)\n",
        "    .when((lower(ecr.test_type_5).isin(covid_test_types) & lower(ecr.test_result_5).isin(covid_positive_results) & lower(ecr.conditions).isin(covid_conditions)), ecr.specimen_collection_date_5)\n",
        "    .when((lower(ecr.test_type_6).isin(covid_test_types) & lower(ecr.test_result_6).isin(covid_positive_results) & lower(ecr.conditions).isin(covid_conditions)), ecr.specimen_collection_date_6)\n",
        "    .when((lower(ecr.test_type_7).isin(covid_test_types) & lower(ecr.test_result_7).isin(covid_positive_results) & lower(ecr.conditions).isin(covid_conditions)), ecr.specimen_collection_date_7)\n",
        "    .when((lower(ecr.test_type_8).isin(covid_test_types) & lower(ecr.test_result_8).isin(covid_positive_results) & lower(ecr.conditions).isin(covid_conditions)), ecr.specimen_collection_date_8)\n",
        "    .when((lower(ecr.test_type_9).isin(covid_test_types) & lower(ecr.test_result_9).isin(covid_positive_results) & lower(ecr.conditions).isin(covid_conditions)), ecr.specimen_collection_date_9)\n",
        "    .when((lower(ecr.test_type_10).isin(covid_test_types) & lower(ecr.test_result_10).isin(covid_positive_results) & lower(ecr.conditions).isin(covid_conditions)), ecr.specimen_collection_date_10)\n",
        "    .when((lower(ecr.test_type_11).isin(covid_test_types) & lower(ecr.test_result_11).isin(covid_positive_results) & lower(ecr.conditions).isin(covid_conditions)), ecr.specimen_collection_date_11)\n",
        "    .when((lower(ecr.test_type_12).isin(covid_test_types) & lower(ecr.test_result_12).isin(covid_positive_results) & lower(ecr.conditions).isin(covid_conditions)), ecr.specimen_collection_date_12)\n",
        "    .when((lower(ecr.test_type_12).isin(covid_test_types) & lower(ecr.test_result_13).isin(covid_positive_results) & lower(ecr.conditions).isin(covid_conditions)), ecr.specimen_collection_date_13)\n",
        "    .when((lower(ecr.test_type_14).isin(covid_test_types) & lower(ecr.test_result_14).isin(covid_positive_results) & lower(ecr.conditions).isin(covid_conditions)), ecr.specimen_collection_date_14)\n",
        "    .when((lower(ecr.test_type_15).isin(covid_test_types) & lower(ecr.test_result_15).isin(covid_positive_results) & lower(ecr.conditions).isin(covid_conditions)), ecr.specimen_collection_date_15)\n",
        "    .when((lower(ecr.test_type_16).isin(covid_test_types) & lower(ecr.test_result_16).isin(covid_positive_results) & lower(ecr.conditions).isin(covid_conditions)), ecr.specimen_collection_date_16)\n",
        "    .when((lower(ecr.test_type_17).isin(covid_test_types) & lower(ecr.test_result_17).isin(covid_positive_results) & lower(ecr.conditions).isin(covid_conditions)), ecr.specimen_collection_date_17)\n",
        "    .when((lower(ecr.test_type_18).isin(covid_test_types) & lower(ecr.test_result_18).isin(covid_positive_results) & lower(ecr.conditions).isin(covid_conditions)), ecr.specimen_collection_date_18)\n",
        "    .when((lower(ecr.test_type_19).isin(covid_test_types) & lower(ecr.test_result_19).isin(covid_positive_results) & lower(ecr.conditions).isin(covid_conditions)), ecr.specimen_collection_date_19)\n",
        "    .when((lower(ecr.test_type_20).isin(covid_test_types) & lower(ecr.test_result_20).isin(covid_positive_results) & lower(ecr.conditions).isin(covid_conditions)), ecr.specimen_collection_date_20)\n",
        "    .otherwise(lit(None))\n",
        ")\n"
      ]
    },
    {
      "cell_type": "code",
      "execution_count": null,
      "metadata": {
        "jupyter": {
          "outputs_hidden": false,
          "source_hidden": false
        },
        "nteract": {
          "transient": {
            "deleting": false
          }
        }
      },
      "outputs": [],
      "source": [
        "# Join MCI and ECR to get ecr updates (positive covid tests)\n",
        "ecr_updates = ecr.join(mci,((ecr.iris_id ==  mci.person_id_mci) & (datediff(ecr.comparison_date,mci.specimen_collection_date_mci) <= 90)),\"inner\").select(\"iris_id\",\"incident_id_mci\")\n",
        "ecr_updates = ecr_updates.toDF(\"iris_id\",\"incident_id_mci\")\n"
      ]
    },
    {
      "cell_type": "code",
      "execution_count": null,
      "metadata": {
        "jupyter": {
          "outputs_hidden": false,
          "source_hidden": false
        },
        "nteract": {
          "transient": {
            "deleting": false
          }
        }
      },
      "outputs": [],
      "source": [
        "# Load ecr delta table\n",
        "ecr_main = DeltaTable.forPath(spark,ECR_DELTA_TABLE_FILE_PATH)\n",
        "\n",
        "# Merge in ecr updates such that the incident_id is updated\n",
        "ecr_main.alias(\"ecr\") \\\n",
        "  .merge(\n",
        "    ecr_updates.alias(\"ecr_updates\"),\n",
        "    \"ecr.person_id = ecr_updates.iris_id\") \\\n",
        "  .whenMatchedUpdate(set = {\"incident_id\": \"ecr_updates.incident_id_mci\" }) \\\n",
        "  .execute()\n"
      ]
    }
  ],
  "metadata": {
    "description": null,
    "kernel_info": {
      "name": "synapse_pyspark"
    },
    "kernelspec": {
      "display_name": "Synapse PySpark",
      "language": "Python",
      "name": "synapse_pyspark"
    },
    "language_info": {
      "name": "python"
    },
    "save_output": false,
    "synapse_widget": {
      "state": {},
      "version": "0.1"
    }
  },
  "nbformat": 4,
  "nbformat_minor": 2
}
