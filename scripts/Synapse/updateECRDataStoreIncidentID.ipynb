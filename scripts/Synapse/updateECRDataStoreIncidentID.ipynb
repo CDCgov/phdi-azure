{
  "cells": [
    {
      "attachments": {},
      "cell_type": "markdown",
      "metadata": {},
      "source": [
        "### updateECRDatastoreIncidentID\n",
        "This is the 3rd and final step to update the ECR datastore after receiving new MPI data from LAC, after updating the `iris_id` in the `updateECRDatastoreIrisID` notebook.\n",
        "\n",
        "This notebook syncs `incident_id`s between the Master Incident Index (MII) and the ECR datastore. As new MII data is made available through the `updateMII` Synapse job, the ECR datastore needs to be updated as well. This notebook updates the `incident_id` column in the ECR datastore if there is an entry in the MII with a corresponding `person_id` and the entry has a positive COVID test within 90 days of the ECR datastore's COVID specimen collection date.\n"
      ]
    },
    {
      "attachments": {},
      "cell_type": "markdown",
      "metadata": {},
      "source": [
        "Set up and prep data. Load ECR datastore (`ecr`) and MII delta tables (`mii`). Load the data necessary for identifying positive COVID tests (`covid_test_type_codes`, `covid_positive_results`)"
      ]
    },
    {
      "cell_type": "code",
      "execution_count": null,
      "metadata": {
        "collapsed": false,
        "jupyter": {
          "outputs_hidden": false
        }
      },
      "outputs": [],
      "source": [
        "from pyspark.sql import SparkSession\n",
        "from delta.tables import *\n",
        "from pyspark.sql.functions import *\n",
        "\n",
        "account_name = \"$STORAGE_ACCOUNT\"\n",
        "ECR_DELTA_TABLE_FILE_PATH = f\"abfss://delta-tables@{account_name}.dfs.core.windows.net/ecr-datastore\"\n",
        "MII_DELTA_TABLE_FILE_PATH = f\"abfss://patient_data@{account_name}.dfs.core.windows.net/MII.parquet\"\n",
        "COVID_IDENTIFICATION_CONFIG_FILE_PATH = f\"abfss://delta-tables@{account_name}.dfs.core.windows.net/covid_identification_config.json\"\n",
        "\n",
        "spark = SparkSession.builder.getOrCreate()\n",
        "\n",
        "# Read in data\n",
        "ecr = spark.read.format(\"delta\").load(ECR_DELTA_TABLE_FILE_PATH)\n",
        "mii = spark.read.format(\"delta\").load(MII_DELTA_TABLE_FILE_PATH).select(\"incident_id\",\"person_id\",\"specimen_collection_date\").withColumnRenamed(\"incident_id\",\"incident_id_mii\").withColumnRenamed(\"person_id\",\"person_id_mii\").withColumnRenamed(\"specimen_collection_date\",\"specimen_collection_date_mii\")\n",
        "\n",
        "# Covid identification data\n",
        "df = spark.read.json(COVID_IDENTIFICATION_CONFIG_FILE_PATH, multiLine=True)\n",
        "covid_test_type_codes = df.select('covid_test_type_codes').rdd.flatMap(lambda x: x).collect()[0]\n",
        "covid_positive_results = df.select('covid_positive_results').rdd.flatMap(lambda x: x).collect()[0]"
      ]
    },
    {
      "attachments": {},
      "cell_type": "markdown",
      "metadata": {},
      "source": [
        "Create a `comparison_date` column in the ECR datastore. The ECR datastore contains 20 tests and associated specimen collection dates. When updating the `incident_id`, we are only concerned with positive, COVID tests and thus want to use the specimen collection date associated with positive COVID tests only. This block checks each of the tests to see if they are a COVID test (i.e., `test_type_code` is in the list of `covid_test_types_codes`) and whether the test is positive (i.e., the `test_result` is in the list of `covid_positive_results`)."
      ]
    },
    {
      "cell_type": "code",
      "execution_count": null,
      "metadata": {
        "jupyter": {
          "outputs_hidden": false,
          "source_hidden": false
        },
        "nteract": {
          "transient": {
            "deleting": false
          }
        }
      },
      "outputs": [],
      "source": [
        "# Add `comparison_date` column to ecr data ahead of join with mii to find positive covid tests\n",
        "ecr = ecr.withColumn(\"comparison_date\",\n",
        "    when((lower(ecr.test_type_code_1).isin(covid_test_type_codes) & lower(ecr.test_result_1).isin(covid_positive_results)), ecr.specimen_collection_date_1)\n",
        "    .when((lower(ecr.test_type_code_2).isin(covid_test_type_codes) & lower(ecr.test_result_2).isin(covid_positive_results)), ecr.specimen_collection_date_2)\n",
        "    .when((lower(ecr.test_type_code_3).isin(covid_test_type_codes) & lower(ecr.test_result_3).isin(covid_positive_results)), ecr.specimen_collection_date_3)\n",
        "    .when((lower(ecr.test_type_code_4).isin(covid_test_type_codes) & lower(ecr.test_result_4).isin(covid_positive_results)), ecr.specimen_collection_date_4)\n",
        "    .when((lower(ecr.test_type_code_5).isin(covid_test_type_codes) & lower(ecr.test_result_5).isin(covid_positive_results)), ecr.specimen_collection_date_5)\n",
        "    .when((lower(ecr.test_type_code_6).isin(covid_test_type_codes) & lower(ecr.test_result_6).isin(covid_positive_results)), ecr.specimen_collection_date_6)\n",
        "    .when((lower(ecr.test_type_code_7).isin(covid_test_type_codes) & lower(ecr.test_result_7).isin(covid_positive_results)), ecr.specimen_collection_date_7)\n",
        "    .when((lower(ecr.test_type_code_8).isin(covid_test_type_codes) & lower(ecr.test_result_8).isin(covid_positive_results)), ecr.specimen_collection_date_8)\n",
        "    .when((lower(ecr.test_type_code_9).isin(covid_test_type_codes) & lower(ecr.test_result_9).isin(covid_positive_results)), ecr.specimen_collection_date_9)\n",
        "    .when((lower(ecr.test_type_code_10).isin(covid_test_type_codes) & lower(ecr.test_result_10).isin(covid_positive_results)), ecr.specimen_collection_date_10)\n",
        "    .when((lower(ecr.test_type_code_11).isin(covid_test_type_codes) & lower(ecr.test_result_11).isin(covid_positive_results)), ecr.specimen_collection_date_11)\n",
        "    .when((lower(ecr.test_type_code_12).isin(covid_test_type_codes) & lower(ecr.test_result_12).isin(covid_positive_results)), ecr.specimen_collection_date_12)\n",
        "    .when((lower(ecr.test_type_code_12).isin(covid_test_type_codes) & lower(ecr.test_result_13).isin(covid_positive_results)), ecr.specimen_collection_date_13)\n",
        "    .when((lower(ecr.test_type_code_14).isin(covid_test_type_codes) & lower(ecr.test_result_14).isin(covid_positive_results)), ecr.specimen_collection_date_14)\n",
        "    .when((lower(ecr.test_type_code_15).isin(covid_test_type_codes) & lower(ecr.test_result_15).isin(covid_positive_results)), ecr.specimen_collection_date_15)\n",
        "    .when((lower(ecr.test_type_code_16).isin(covid_test_type_codes) & lower(ecr.test_result_16).isin(covid_positive_results)), ecr.specimen_collection_date_16)\n",
        "    .when((lower(ecr.test_type_code_17).isin(covid_test_type_codes) & lower(ecr.test_result_17).isin(covid_positive_results)), ecr.specimen_collection_date_17)\n",
        "    .when((lower(ecr.test_type_code_18).isin(covid_test_type_codes) & lower(ecr.test_result_18).isin(covid_positive_results)), ecr.specimen_collection_date_18)\n",
        "    .when((lower(ecr.test_type_code_19).isin(covid_test_type_codes) & lower(ecr.test_result_19).isin(covid_positive_results)), ecr.specimen_collection_date_19)\n",
        "    .when((lower(ecr.test_type_code_20).isin(covid_test_type_codes) & lower(ecr.test_result_20).isin(covid_positive_results)), ecr.specimen_collection_date_20)\n",
        "    .otherwise(lit(None))\n",
        ")"
      ]
    },
    {
      "attachments": {},
      "cell_type": "markdown",
      "metadata": {},
      "source": [
        "Join the MII and ECR Datastore where the IDs match and the MII speciment collection date is within 90 days of the ECR `comparison_date` selected in the previous cell to assemble the updates for the ECR datastore."
      ]
    },
    {
      "cell_type": "code",
      "execution_count": null,
      "metadata": {
        "jupyter": {
          "outputs_hidden": false,
          "source_hidden": false
        },
        "nteract": {
          "transient": {
            "deleting": false
          }
        }
      },
      "outputs": [],
      "source": [
        "# Join MII and ECR to get ecr updates (positive covid tests)\n",
        "ecr_updates = ecr.join(mii,((ecr.iris_id ==  mii.person_id_mii) & (datediff(ecr.comparison_date,mii.specimen_collection_date_mii) <= 90)),\"inner\").select(\"iris_id\",\"incident_id_mii\")\n",
        "ecr_updates = ecr_updates.toDF(\"iris_id\",\"incident_id_mii\")\n"
      ]
    },
    {
      "attachments": {},
      "cell_type": "markdown",
      "metadata": {},
      "source": [
        "Load the ECR datastore (`ecr_main`) and merge in the updates (`ecr_updates`) such that when a match is found (e.g., a new positive COVID result within 90 days), the `incident_id` column in the ECR datastore is updated."
      ]
    },
    {
      "cell_type": "code",
      "execution_count": null,
      "metadata": {
        "jupyter": {
          "outputs_hidden": false,
          "source_hidden": false
        },
        "nteract": {
          "transient": {
            "deleting": false
          }
        }
      },
      "outputs": [],
      "source": [
        "# Load ecr delta table\n",
        "ecr_main = DeltaTable.forPath(spark,ECR_DELTA_TABLE_FILE_PATH)\n",
        "\n",
        "# Merge in ecr updates such that the incident_id is updated\n",
        "ecr_main.alias(\"ecr\") \\\n",
        "  .merge(\n",
        "    ecr_updates.alias(\"ecr_updates\"),\n",
        "    \"ecr.person_id = ecr_updates.iris_id\") \\\n",
        "  .whenMatchedUpdate(set = {\"incident_id\": \"ecr_updates.incident_id_mii\",\"incident_id_date_added\": date_format(current_timestamp(), 'yyyy-MM-dd') }) \\\n",
        "  .execute()\n"
      ]
    }
  ],
  "metadata": {
    "description": null,
    "kernel_info": {
      "name": "synapse_pyspark"
    },
    "kernelspec": {
      "display_name": "Synapse PySpark",
      "language": "Python",
      "name": "synapse_pyspark"
    },
    "language_info": {
      "name": "python"
    },
    "save_output": false,
    "synapse_widget": {
      "state": {},
      "version": "0.1"
    }
  },
  "nbformat": 4,
  "nbformat_minor": 2
}
