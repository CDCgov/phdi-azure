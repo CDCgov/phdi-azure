{
 "cells": [
  {
   "cell_type": "code",
   "execution_count": null,
   "id": "962a47d0-b2c4-4516-84c0-b947280645fe",
   "metadata": {},
   "outputs": [],
   "source": [
    "import datetime\n",
    "from pyspark.sql import SparkSession\n",
    "from pyspark.sql.functions import lit, current_timestamp\n",
    "from notebookutils import mssparkutils\n",
    "\n",
    "spark = SparkSession.builder.getOrCreate()\n",
    "\n",
    "# source and destination paths\n",
    "storage_account = \"$STORAGE_ACCOUNT\"\n",
    "ecr_post_bundle_file_path = f\"abfss://bundle-snapshots@{storage_account}.dfs.core.windows.net/post/ecr\"\n",
    "ecr_rerun_file_path = f\"abfss://source-data@{storage_account}.dfs.core.windows.net/ecr-rerun\"\n",
    "\n",
    "# parquet log file: timestamp, filename, and destination path\n",
    "timestamp_str = datetime.datetime.now().strftime(\"%Y%m%d_%H%M%S\")\n",
    "parquet_file_name = f\"moved_files_log_{timestamp_str}.parquet\"\n",
    "parquet_file_path = f\"{ecr_rerun_file_path}/logs/{parquet_file_name}\"\n",
    "\n",
    "# dataframe to track moved files\n",
    "moved_files_log = spark.createDataFrame([], schema=\"filename string, source_path string, dest_path string, timestamp string, file_exists_skip boolean\")\n",
    "\n",
    "# get directory contents\n",
    "files = mssparkutils.fs.ls(ecr_post_bundle_file_path)\n",
    "for file in files:\n",
    "    src_path = file.path\n",
    "    dest_path = f\"{ecr_rerun_file_path}/{file.name}\"\n",
    "\n",
    "    # capture the timestamp before moving the file\n",
    "    move_timestamp = datetime.datetime.now().strftime(\"%Y-%m-%d %H:%M:%S\")\n",
    "\n",
    "    # check if the file exists\n",
    "    file_exists = mssparkutils.fs.exists(dest_path)\n",
    "\n",
    "    # move the files if it doesn't exist\n",
    "    if not file_exists:\n",
    "        mssparkutils.fs.mv(src=src_path, dest=dest_path, create_path=True)\n",
    "\n",
    "    # log the file move\n",
    "    new_row = spark.createDataFrame([(file.name, src_path, dest_path, move_timestamp, file_exists)])\n",
    "    moved_files_log = moved_files_log.union(new_row)\n",
    "\n",
    "# add current timestamp\n",
    "moved_files_log = moved_files_log.withColumn(\"log_timestamp\", current_timestamp())\n",
    "\n",
    "# write log to parquet\n",
    "moved_files_log.write.mode(\"append\").parquet(parquet_file_path)\n",
    "\n",
    "# inspect log of moved files\n",
    "moved_files_log.show()"
   ]
  }
 ],
 "metadata": {
  "kernelspec": {
   "display_name": "Python 3 (ipykernel)",
   "language": "python",
   "name": "python3"
  },
  "language_info": {
   "codemirror_mode": {
    "name": "ipython",
    "version": 3
   },
   "file_extension": ".py",
   "mimetype": "text/x-python",
   "name": "python",
   "nbconvert_exporter": "python",
   "pygments_lexer": "ipython3",
   "version": "3.10.13"
  }
 },
 "nbformat": 4,
 "nbformat_minor": 5
}
