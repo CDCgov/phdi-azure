{
 "cells": [
  {
   "cell_type": "code",
   "execution_count": null,
   "id": "962a47d0-b2c4-4516-84c0-b947280645fe",
   "metadata": {},
   "outputs": [],
   "source": [
    "from pyspark.sql import SparkSession\n",
    "from notebookutils import mssparkutils\n",
    "\n",
    "spark = SparkSession.builder.getOrCreate()"
   ]
  },
  {
   "cell_type": "code",
   "execution_count": null,
   "id": "05f823b1-ca98-42b1-8723-262e2a984016",
   "metadata": {},
   "outputs": [],
   "source": [
    "storage_account = \"$STORAGE_ACCOUNT\"\n",
    "ecr_post_bundle_file_path = f\"abfss://bundle-snapshots@{storage_account}.dfs.core.windows.net/post/ecr\"\n",
    "ecr_rerun_file_path = f\"abfss://source-data@{storage_account}.dfs.core.windows.net/ecr-rerun\""
   ]
  },
  {
   "cell_type": "code",
   "execution_count": null,
   "id": "bdeb5ecc-6fd6-41c0-9174-d66fd727586f",
   "metadata": {},
   "outputs": [],
   "source": [
    "def move_file(src_path, dest_path):\n",
    "    mssparkutils.fs.mv(src=src_path, dest=dest_path, create_path=True)\n",
    "\n",
    "# Example usage\n",
    "move_file(ecr_post_bundle_file_path, destination_path_for_ecr_post_bundle)"
   ]
  }
 ],
 "metadata": {
  "kernelspec": {
   "display_name": "Python 3 (ipykernel)",
   "language": "python",
   "name": "python3"
  },
  "language_info": {
   "codemirror_mode": {
    "name": "ipython",
    "version": 3
   },
   "file_extension": ".py",
   "mimetype": "text/x-python",
   "name": "python",
   "nbconvert_exporter": "python",
   "pygments_lexer": "ipython3",
   "version": "3.10.13"
  }
 },
 "nbformat": 4,
 "nbformat_minor": 5
}
