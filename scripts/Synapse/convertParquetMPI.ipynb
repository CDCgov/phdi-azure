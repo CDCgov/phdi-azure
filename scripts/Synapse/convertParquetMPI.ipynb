{
  "cells": [
    {
      "attachments": {},
      "cell_type": "markdown",
      "metadata": {},
      "source": [
        "# convertParquetMPI\n",
        "\n",
        "This notebook reads in patient data from an uploaded parquet file (`mpi_incoming_file_path`), converts the data to FHIR bundles, and posts the FHIR bundles to the Record Linkage endpoint."
      ]
    },
    {
      "cell_type": "code",
      "execution_count": null,
      "metadata": {},
      "outputs": [],
      "source": [
        "pip install phdi=1.0.6 azure-identity"
      ]
    },
    {
      "attachments": {},
      "cell_type": "markdown",
      "metadata": {},
      "source": [
        "Set up parameters for connecting to the storage account, vault client, and record linkage container app."
      ]
    },
    {
      "cell_type": "code",
      "execution_count": null,
      "metadata": {
        "jupyter": {
          "outputs_hidden": false,
          "source_hidden": false
        },
        "nteract": {
          "transient": {
            "deleting": false
          }
        }
      },
      "outputs": [],
      "source": [
        "from pyspark.sql import SparkSession\n",
        "from phdi.linkage.seed import convert_to_patient_fhir_resources\n",
        "from azure.identity import DefaultAzureCredential\n",
        "import requests\n",
        "\n",
        "spark = SparkSession.builder.getOrCreate()\n",
        "\n",
        "# Set up file client and endpoint credentials\n",
        "account_name = \"$STORAGE_ACCOUNT\"\n",
        "file_system_name = \"patient-data\"\n",
        "file_path = \"MPI.parquet\"\n",
        "mpi_incoming_file_path = f\"abfss://{file_system_name}@{account_name}.dfs.core.windows.net/{file_path}\"\n",
        "\n",
        "\n",
        "# Set up key vault client\n",
        "vault_name = \"$KEY_VAULT\"\n",
        "vault_url = f\"https://{vault_name}.vault.azure.net/\"\n",
        "vault_linked_service = \"AzureKeyVault1\"\n",
        "\n",
        "credential = DefaultAzureCredential()\n",
        "\n",
        "# Get client ID and secret for GitHub app registration\n",
        "client_id = TokenLibrary.getSecret(vault_name,\"synapse-client-id\",vault_linked_service)\n",
        "client_secret = TokenLibrary.getSecret(vault_name,\"synapse-client-secret\",vault_linked_service)\n",
        "\n",
        "# Get access token for record linkage container app\n",
        "tenant_id = \"$TENANT_ID\"\n",
        "url = f\"https://login.microsoftonline.com/{tenant_id}/oauth2/v2.0/token\"\n",
        "\n",
        "data = {\n",
        "    'grant_type': 'client_credentials',\n",
        "    'client_id': client_id,\n",
        "    'client_secret': client_secret,\n",
        "    'scope': 'api://phdi-dev-record-linkage/.default'\n",
        "}\n",
        "\n",
        "response = requests.post(url, data=data)\n",
        "access_token = response.json()['access_token']\n",
        "\n",
        "# Make request to record linkage container app\n",
        "record_linkage_url = TokenLibrary.getSecret(vault_name,\"record-linkage-url\",vault_linked_service)+ \"/link-record\" \n",
        "ingestion_url = TokenLibrary.getSecret(vault_name,\"ingestion-url\",vault_linked_service)\n",
        "std_names_url = ingestion_url + \"/standardize_names\"\n",
        "std_phones_url = ingestion_url + \"/standardize_phones\"\n",
        "std_dob_url = ingestion_url + \"/standardize_dob\"\n",
        "std_address_url = ingestion_url + \"/geocode_bundle\"\n",
        "headers = {\n",
        "    'Authorization': f'Bearer {access_token}'\n",
        "}\n"
      ]
    },
    {
      "attachments": {},
      "cell_type": "markdown",
      "metadata": {},
      "source": [
        "Read the MPI parquet data into a spark dataframe. Iterate over each row of patient data in the dataframe and convert to a FHIR bundle and associated iris_id. Create a POST request to the record linkage container with FHIR bundle and iris_id."
      ]
    },
    {
      "cell_type": "code",
      "execution_count": null,
      "metadata": {},
      "outputs": [],
      "source": [
        "# Convert and post data from mpi_incoming_file_path\n",
        "def convert(mpi_incoming_file_path):\n",
        "    df = spark.read.parquet(mpi_incoming_file_path)\n",
        "    for row in df.collect():\n",
        "        iris_id, fhir_bundle = convert_to_patient_fhir_resources(row.asDict())\n",
        "\n",
        "        # Add metadata to LAC Extract patientdenoting it came from IRIS\n",
        "        # We know this URI is ~probably~ not right but Brady might know what to use...\n",
        "        patients = [\n",
        "            r for r in fhir_bundle.get(\"entry\", []) if r.get(\"resource\", {}).get(\"resourceType\", \"\") == \"Patient\"\n",
        "        ]\n",
        "        patients[0][\"meta\"] = {\"source\": \"uri:iris\"}\n",
        "        data = {\n",
        "            'bundle': fhir_bundle,\n",
        "            'external_person_id': iris_id\n",
        "        }\n",
        "        \n",
        "        # Perform pipeline standardization on extracted data to mirror how\n",
        "        # non-extracted data gets handled by the pipeline\n",
        "        resp = requests.post(std_names_url, headers=headers, json=data)\n",
        "        data['bundle'] = resp.get(\"bundle\")\n",
        "        resp = requests.post(std_phones_url, headers=headers, json=data)\n",
        "        data['bundle'] = resp.get(\"bundle\")\n",
        "        resp = requests.post(std_dob_url, headers=headers, json=data)\n",
        "        data['bundle'] = resp.get(\"bundle\")\n",
        "        resp = requests.post(std_address_url, headers=headers, json=data)\n",
        "        data['bundle'] = resp.get(\"bundle\")\n",
        "\n",
        "        # Now we can send the extracted record off to the MPI\n",
        "        requests.post(record_linkage_url, headers=headers, json=data)\n",
        "\n",
        "convert(mpi_incoming_file_path)\n",
        "    "
      ]
    }
  ],
  "metadata": {
    "description": null,
    "kernelspec": {
      "display_name": "Synapse PySpark",
      "name": "synapse_pyspark"
    },
    "language_info": {
      "name": "python"
    },
    "save_output": true,
    "synapse_widget": {
      "state": {},
      "version": "0.1"
    }
  },
  "nbformat": 4,
  "nbformat_minor": 2
}
