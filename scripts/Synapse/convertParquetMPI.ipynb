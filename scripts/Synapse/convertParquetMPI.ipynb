{
  "cells": [
    {
      "cell_type": "code",
      "execution_count": null,
      "metadata": {},
      "outputs": [],
      "source": [
        "pip install git+https://github.com/CDCgov/phdi"
      ]
    },
    {
      "cell_type": "code",
      "execution_count": null,
      "metadata": {
        "jupyter": {
          "outputs_hidden": true,
          "source_hidden": false
        },
        "nteract": {
          "transient": {
            "deleting": false
          }
        }
      },
      "outputs": [],
      "source": [
        "from pyspark.sql import SparkSession\n",
        "from phdi.linkage.seed import convert_to_patient_fhir_resources\n",
        "\n",
        "spark = SparkSession.builder.getOrCreate()\n",
        "\n",
        "# Set up file client\n",
        "account_name = \"phdidevphi9d194c64\"\n",
        "file_system_name = \"source-data\"\n",
        "file_path = \"synthetic_patient_mpi_seed_data.parquet\"\n",
        "mpi_incoming_file_path = f\"abfss://{file_system_name}@{account_name}.dfs.core.windows.net/{file_path}\"\n",
        "\n",
        "def convert(mpi_incoming_file_path):\n",
        "    df = spark.read.parquet(mpi_incoming_file_path)\n",
        "    converted_data = {}\n",
        "    for row in df.collect():\n",
        "        iris_id, fhir_bundle = convert_to_patient_fhir_resources(row.asDict())\n",
        "        converted_data[iris_id] = fhir_bundle\n",
        "    return converted_data\n",
        "\n",
        "converted_data = convert(mpi_incoming_file_path)\n"
      ]
    }
  ],
  "metadata": {
    "description": null,
    "kernelspec": {
      "display_name": "Synapse PySpark",
      "name": "synapse_pyspark"
    },
    "language_info": {
      "name": "python"
    },
    "save_output": true,
    "synapse_widget": {
      "state": {},
      "version": "0.1"
    }
  },
  "nbformat": 4,
  "nbformat_minor": 2
}
