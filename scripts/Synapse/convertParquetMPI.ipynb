{
  "cells": [
    {
      "cell_type": "code",
      "execution_count": null,
      "metadata": {},
      "outputs": [],
      "source": [
        "pip install git+https://github.com/CDCgov/phdi azure-keyvault-secrets"
      ]
    },
    {
      "cell_type": "code",
      "execution_count": null,
      "metadata": {
        "jupyter": {
          "outputs_hidden": true,
          "source_hidden": false
        },
        "nteract": {
          "transient": {
            "deleting": false
          }
        }
      },
      "outputs": [],
      "source": [
        "from pyspark.sql import SparkSession\n",
        "from phdi.linkage.seed import convert_to_patient_fhir_resources\n",
        "\n",
        "spark = SparkSession.builder.getOrCreate()\n",
        "\n",
        "# Set up file client\n",
        "account_name = \"phdidevphi9d194c64\"\n",
        "file_system_name = \"source-data\"\n",
        "file_path = \"synthetic_patient_mpi_seed_data.parquet\"\n",
        "mpi_incoming_file_path = f\"abfss://{file_system_name}@{account_name}.dfs.core.windows.net/{file_path}\"\n",
        "\n",
        "def convert(mpi_incoming_file_path):\n",
        "    df = spark.read.parquet(mpi_incoming_file_path)\n",
        "    converted_data = {}\n",
        "    for row in df.collect():\n",
        "        iris_id, fhir_bundle = convert_to_patient_fhir_resources(row.asDict())\n",
        "        converted_data[iris_id] = fhir_bundle\n",
        "    return converted_data\n",
        "\n",
        "converted_data = convert(mpi_incoming_file_path)\n"
      ]
    },
    {
      "cell_type": "code",
      "execution_count": null,
      "metadata": {},
      "outputs": [],
      "source": [
        "from azure.identity import ManagedIdentityCredential\n",
        "from azure.core.credentials import AccessToken\n",
        "\n",
        "class spoof_token:\n",
        "    def get_token(*args, **kwargs):\n",
        "        return AccessToken(\n",
        "            token=mssparkutils.credentials.getToken(audience=\"vault\"),\n",
        "            expires_on=int(time.time())+60*10 # some random time in future... synapse doesn't document how to get the actual time\n",
        "        )\n",
        "\n",
        "credential = ManagedIdentityCredential()\n",
        "credential._credential = spoof_token() # monkey-patch the contents of the private `_credential`\n",
        "\n",
        "# Set up key vault client\n",
        "from azure.keyvault.secrets import SecretClient\n",
        "\n",
        "vault_url = \"https://devvault9d194c64.vault.azure.net/\"\n",
        "\n",
        "client = SecretClient(vault_url=vault_url, credential=credential)\n",
        "\n",
        "# Get client ID and secret for GitHub app registration\n",
        "client_id = client.get_secret(\"github-app-client-id\").value\n",
        "client_secret = client.get_secret(\"github-app-client-secret\").value\n",
        "\n",
        "# Get access token for record linkage container app\n",
        "import requests\n",
        "\n",
        "url = \"https://login.microsoftonline.com/28cf58df-efe8-4135-b2d1-f697ee74c00c/oauth2/v2.0/token\"\n",
        "\n",
        "data = {\n",
        "    'grant_type': 'client_credentials',\n",
        "    'client_id': client_id,\n",
        "    'client_secret': client_secret,\n",
        "    'scope': 'api://phdi-dev-record-linkage/.default'\n",
        "}\n",
        "\n",
        "response = requests.post(url, data=data)\n",
        "\n",
        "access_token = response.json()['access_token']\n",
        "\n",
        "# Make request to record linkage container app\n",
        "url = \"https://phdi-dev-record-linkage.victoriousocean-a1ab497b.centralus.azurecontainerapps.io/link-record\"\n",
        "\n",
        "headers = {\n",
        "    'Authorization': f'Bearer {access_token}'\n",
        "}\n",
        "\n",
        "for iris_id, fhir_bundle in converted_data.items():\n",
        "    data = {\n",
        "        'bundle': fhir_bundle,\n",
        "        'external_person_id': iris_id\n",
        "    }\n",
        "    requests.post(url, headers=headers, json=data)"
      ]
    }
  ],
  "metadata": {
    "description": null,
    "kernelspec": {
      "display_name": "Synapse PySpark",
      "name": "synapse_pyspark"
    },
    "language_info": {
      "name": "python"
    },
    "save_output": true,
    "synapse_widget": {
      "state": {},
      "version": "0.1"
    }
  },
  "nbformat": 4,
  "nbformat_minor": 2
}
