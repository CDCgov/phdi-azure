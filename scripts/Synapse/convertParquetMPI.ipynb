{
  "cells": [
    {
      "attachments": {},
      "cell_type": "markdown",
      "metadata": {},
      "source": [
        "# convertParquetMPI\n",
        "\n",
        "This notebook reads in patient data from an uploaded parquet file (`mpi_incoming_file_path`), converts the data to FHIR bundles, and posts the FHIR bundles to the Record Linkage endpoint."
      ]
    },
    {
      "cell_type": "code",
      "execution_count": null,
      "metadata": {},
      "outputs": [],
      "source": [
        "pip install azure-identity phdi"
      ]
    },
    {
      "attachments": {},
      "cell_type": "markdown",
      "metadata": {},
      "source": [
        "Set up parameters for connecting to the storage account, vault client, and record linkage container app."
      ]
    },
    {
      "cell_type": "code",
      "execution_count": null,
      "metadata": {
        "jupyter": {
          "outputs_hidden": false,
          "source_hidden": false
        },
        "nteract": {
          "transient": {
            "deleting": false
          }
        }
      },
      "outputs": [],
      "source": [
        "from pyspark.sql import SparkSession\n",
        "from phdi.linkage.seed import convert_to_patient_fhir_resources\n",
        "from azure.identity import DefaultAzureCredential\n",
        "import requests\n",
        "import time\n",
        "from datetime import date\n",
        "from phdi.transport.http import http_request_with_retry\n",
        "\n",
        "spark = SparkSession.builder.getOrCreate()\n",
        "\n",
        "# Set up file client and endpoint credentials\n",
        "account_name = \"$STORAGE_ACCOUNT\"\n",
        "endpoint_scope = \"$SCOPE\"\n",
        "snapshot_bucket_name = \"bundle-snapshots\"\n",
        "file_system_name = \"patient-data\"\n",
        "file_path = \"MPI.parquet\"\n",
        "storage_account_url = f\"https://{account_name}.blob.core.windows.net\"\n",
        "mpi_incoming_file_path = f\"abfss://{file_system_name}@{account_name}.dfs.core.windows.net/{file_path}\"\n",
        "\n",
        "# Set up key vault client\n",
        "vault_name = \"$KEY_VAULT\"\n",
        "vault_url = f\"https://{vault_name}.vault.azure.net/\"\n",
        "vault_linked_service = \"$KEY_VAULT_LINKED_SERVICE\"\n",
        "\n",
        "credential = DefaultAzureCredential()\n",
        "\n",
        "# Get client ID and secret for GitHub app registration\n",
        "client_id = TokenLibrary.getSecret(vault_name,\"synapse-client-id\",vault_linked_service)\n",
        "client_secret = TokenLibrary.getSecret(vault_name,\"synapse-client-secret\",vault_linked_service)\n",
        "\n",
        "# Get access token for record linkage container app\n",
        "tenant_id = \"$TENANT_ID\"\n",
        "endpoint_login_url = f\"https://login.microsoftonline.com/{tenant_id}/oauth2/v2.0/token\"\n",
        "\n",
        "# Set up for record linkage and ingestion access\n",
        "def set_up_endpoint_access(endpoint, url):\n",
        "    data = {\n",
        "         'grant_type': 'client_credentials',\n",
        "        'client_id': client_id,\n",
        "        'client_secret': client_secret,\n",
        "        'scope': f'api://{endpoint_scope}-{endpoint}/.default'\n",
        "    }\n",
        "\n",
        "    response = requests.post(url, data=data)\n",
        "    access_token = response.json()['access_token']\n",
        "    headers = {\n",
        "        'Authorization': f'Bearer {access_token}'\n",
        "    }\n",
        "    return data, headers\n",
        "\n",
        "record_linkage_data, record_linkage_headers = set_up_endpoint_access(endpoint=\"record-linkage\",url=endpoint_login_url)\n",
        "ingestion_data, ingestion_headers = set_up_endpoint_access(endpoint=\"ingestion\",url=endpoint_login_url)\n",
        "\n",
        "# Define function for refreshing Bearer access token\n",
        "def request_with_token_refresh(url,headers,data,endpoint_type,endpoint_login_url):\n",
        "    resp = http_request_with_retry(url=url,retry_count=2,request_type=\"POST\",headers=headers,allowed_methods=[\"POST\"],data=data)\n",
        "    if resp.status_code == 401:\n",
        "        _, headers = set_up_endpoint_access(endpoint=endpoint_type,url=endpoint_login_url)\n",
        "        return request_with_token_refresh(url,headers,data,endpoint_type,endpoint_login_url)\n",
        "    resp.raise_for_status()\n",
        "    return resp\n",
        "\n",
        "# Get URLs for container apps\n",
        "record_linkage_url = TokenLibrary.getSecret(vault_name,\"record-linkage-url\",vault_linked_service)+ \"/link-record\" \n",
        "ingestion_url = TokenLibrary.getSecret(vault_name,\"ingestion-url\",vault_linked_service)\n",
        "std_names_url = ingestion_url + \"/fhir/harmonization/standardization/standardize_names\"\n",
        "std_phones_url = ingestion_url + \"/fhir/harmonization/standardization/standardize_phones\"\n",
        "std_dob_url = ingestion_url + \"/fhir/harmonization/standardization/standardize_dob\"\n",
        "std_address_url = ingestion_url + \"/fhir/geospatial/geocode/geocode_bundle\"\n",
        "write_to_storage_url = ingestion_url + \"/cloud/storage/write_blob_to_storage\""
      ]
    },
    {
      "attachments": {},
      "cell_type": "markdown",
      "metadata": {},
      "source": [
        "Read the MPI parquet data into a spark dataframe. Iterate over each row of patient data in the dataframe and convert to a FHIR bundle and associated iris_id. Create a POST request to the record linkage container with FHIR bundle and iris_id."
      ]
    },
    {
      "cell_type": "code",
      "execution_count": null,
      "metadata": {},
      "outputs": [],
      "source": [
        "\n",
        "# Convert and post data from mpi_incoming_file_path\n",
        "def convert(mpi_incoming_file_path):\n",
        "    df = spark.read.parquet(mpi_incoming_file_path)\n",
        "    curr_date = date.today()\n",
        "    file_idx = 0\n",
        "    for row in df.collect():\n",
        "        file_idx += 1\n",
        "        iris_id, fhir_bundle = convert_to_patient_fhir_resources(row.asDict())\n",
        "\n",
        "        # Add metadata to LAC Extract patientdenoting it came from IRIS\n",
        "        # We know this URI is ~probably~ not right but Brady might know what to use...\n",
        "        patients = [\n",
        "            r for r in fhir_bundle.get(\"entry\", []) if r.get(\"resource\", {}).get(\"resourceType\", \"\") == \"Patient\"\n",
        "        ]\n",
        "        patients[0][\"meta\"] = {\"source\": \"uri:iris\"}\n",
        "        data = {\n",
        "            'bundle': fhir_bundle,\n",
        "            'external_person_id': iris_id\n",
        "        }\n",
        "\n",
        "\n",
        "        # Store a snapshot of the FHIR bundle before it hits standardization\n",
        "        pre_write_data = {\n",
        "            'blob': data[\"bundle\"],\n",
        "            'cloud_provider': 'azure',\n",
        "            'bucket_name': snapshot_bucket_name,\n",
        "            'file_name': f\"/pre/lac_extract_{str(curr_date)}_{str(file_idx)}.json\",\n",
        "            'storage_account_url':storage_account_url\n",
        "\n",
        "        }\n",
        "\n",
        "        resp = request_with_token_refresh(url=write_to_storage_url,headers=ingestion_headers,data=pre_write_data,endpoint_type=\"ingestion\",endpoint_login_url=endpoint_login_url)\n",
        "\n",
        "        # Perform pipeline standardization on extracted data to mirror how non-extracted data gets handled by the pipeline\n",
        "        resp = request_with_token_refresh(url=std_names_url,headers=ingestion_headers,data={\"data\":data[\"bundle\"]},endpoint_type=\"ingestion\",endpoint_login_url=endpoint_login_url)\n",
        "        data['bundle'] = resp.json().get(\"bundle\")\n",
        "\n",
        "        resp = request_with_token_refresh(url=std_phones_url,headers=ingestion_headers,data={\"data\":data[\"bundle\"]},endpoint_type=\"ingestion\",endpoint_login_url=endpoint_login_url)\n",
        "        data['bundle'] = resp.json().get(\"bundle\")\n",
        "\n",
        "        resp = request_with_token_refresh(url=std_dob_url,headers=ingestion_headers,data={\"data\":data[\"bundle\"]},endpoint_type=\"ingestion\",endpoint_login_url=endpoint_login_url)\n",
        "        data['bundle'] = resp.json().get(\"bundle\")\n",
        "\n",
        "        resp = requests.post(std_address_url, headers=ingestion_headers, json={\"bundle\":data[\"bundle\"],\"geocode_method\":\"smarty\"})\n",
        "        data['bundle'] = resp.json().get(\"bundle\")\n",
        "\n",
        "        # Also store a copy of the bundle after it hits standardization\n",
        "        post_write_data = {\n",
        "            'blob': data[\"bundle\"],\n",
        "            'cloud_provider': 'azure',\n",
        "            'bucket_name': snapshot_bucket_name,\n",
        "            'file_name': f\"/post/lac_extract_{str(curr_date)}_{str(file_idx)}.json\",\n",
        "            'storage_account_url':storage_account_url\n",
        "        } \n",
        "        \n",
        "        resp = request_with_token_refresh(url=write_to_storage_url,headers=ingestion_headers,data=post_write_data,endpoint_type=\"ingestion\",endpoint_login_url=endpoint_login_url)\n",
        "\n",
        "     \n",
        "        # Now we can send the extracted record off to the MPI\n",
        "        resp = request_with_token_refresh(url=record_linkage_url,headers=record_linkage_headers,data=data,endpoint_type=\"record-linkage\",endpoint_login_url=endpoint_login_url)\n",
        "\n",
        "convert(mpi_incoming_file_path)\n"
      ]
    }
  ],
  "metadata": {
    "description": null,
    "kernelspec": {
      "display_name": "venv",
      "language": "python",
      "name": "venv"
    },
    "language_info": {
      "name": "python",
      "version": "3.9.12"
    },
    "save_output": true,
    "synapse_widget": {
      "state": {},
      "version": "0.1"
    }
  },
  "nbformat": 4,
  "nbformat_minor": 2
}
