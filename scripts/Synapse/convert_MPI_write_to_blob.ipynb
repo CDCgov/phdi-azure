{
  "cells": [
    {
      "cell_type": "markdown",
      "metadata": {
        "nteract": {
          "transient": {
            "deleting": false
          }
        }
      },
      "source": [
        "# convert_MPI_write_to_blob\n",
        "\n",
        "This notebook reads in patient data from an uploaded parquet file (`mpi_incoming_file_path`), converts to FHIR, and writes the data to blob storage."
      ]
    },
    {
      "cell_type": "code",
      "execution_count": null,
      "metadata": {},
      "outputs": [],
      "source": [
        "pip install azure-identity phdi"
      ]
    },
    {
      "attachments": {},
      "cell_type": "markdown",
      "metadata": {},
      "source": [
        "Set up parameters for connecting to the storage account, vault client, and record linkage container app."
      ]
    },
    {
      "cell_type": "code",
      "execution_count": null,
      "metadata": {
        "jupyter": {
          "outputs_hidden": false,
          "source_hidden": false
        },
        "nteract": {
          "transient": {
            "deleting": false
          }
        }
      },
      "outputs": [],
      "source": [
        "from notebookutils import mssparkutils\n",
        "from phdi.linkage.seed import convert_to_patient_fhir_resources\n",
        "from phdi.linkage.link import generate_hash_str\n",
        "from datetime import date\n",
        "import json\n",
        "import asyncio\n",
        "import nest_asyncio\n",
        "nest_asyncio.apply()\n",
        "from random import randint\n",
        "\n",
        "# Set up file client\n",
        "storage_account = \"$STORAGE_ACCOUNT\"\n",
        "source_data_bucket = \"source-data\"\n",
        "patient_data_bucket = \"patient-data\"\n",
        "file_path = \"MPI.parquet\"\n",
        "storage_account_url = f\"https://{storage_account}.blob.core.windows.net/\"\n",
        "mpi_incoming_file_path = f\"abfss://{patient_data_bucket}@{storage_account}.dfs.core.windows.net/{file_path}\"\n",
        "\n",
        "# Set up for writing to blob storage\n",
        "blob_relative_path = \"\"\n",
        "blob_storage_linked_service = \"$BLOB_STORAGE_LINKED_SERVICE\" \n",
        "blob_sas_token = mssparkutils.credentials.getConnectionStringOrCreds(blob_storage_linked_service)\n",
        "wasb_path = 'wasbs://%s@%s.blob.core.windows.net/%s' % (source_data_bucket, storage_account, blob_relative_path)\n",
        "spark.conf.set('fs.azure.sas.%s.%s.blob.core.windows.net' % (source_data_bucket, storage_account), blob_sas_token)\n",
        "# Try mounting the remote storage directory at the mount point\n",
        "try:\n",
        "    mssparkutils.fs.mount(\n",
        "        wasb_path,\n",
        "        \"/\",\n",
        "        {\"LinkedService\": blob_storage_linked_service}\n",
        "    )\n",
        "except:\n",
        "    print(\"Already mounted\")\n"
      ]
    },
    {
      "cell_type": "code",
      "execution_count": null,
      "metadata": {
        "jupyter": {
          "outputs_hidden": false,
          "source_hidden": false
        },
        "nteract": {
          "transient": {
            "deleting": false
          }
        }
      },
      "outputs": [],
      "source": [
        "async def convert_write_data(row,bucket_name,storage_account,curr_date):\n",
        "    iris_id, fhir_bundle = convert_to_patient_fhir_resources(row.asDict())\n",
        "    patient = [\n",
        "        r for r in fhir_bundle.get(\"entry\", []) if r.get(\"resource\", {}).get(\"resourceType\", \"\") == \"Patient\"\n",
        "    ]\n",
        "    patient[0][\"meta\"] = {\"source\": \"uri:iris\"}\n",
        "\n",
        "    # generate unique hash for writing files\n",
        "    salt_str = \"salt\"\n",
        "    hash = generate_hash_str(json.dumps(fhir_bundle),salt_str)\n",
        "\n",
        "    # Write file to storage pre-harmonization\n",
        "    pre_filename = f\"abfss://{bucket_name}@{storage_account}.dfs.core.windows.net/fhir/lac_extract_{str(curr_date)}_{str(hash)}.json\"\n",
        "    mssparkutils.fs.put(pre_filename, json.dumps(fhir_bundle), True)\n",
        "\n",
        "async def batch_seed(rows,bucket_name,storage_account,curr_date):\n",
        "    resps = await asyncio.gather(*[convert_write_data(row,bucket_name,storage_account,curr_date) for row in rows])"
      ]
    },
    {
      "cell_type": "code",
      "execution_count": 8,
      "metadata": {
        "jupyter": {
          "outputs_hidden": false,
          "source_hidden": false
        },
        "nteract": {
          "transient": {
            "deleting": false
          }
        }
      },
      "outputs": [],
      "source": [
        "# Convert data and write to blob storage\n",
        "def pre_process(mpi_incoming_file_path):\n",
        "    curr_date = date.today()\n",
        "    df = spark.read.parquet(mpi_incoming_file_path)\n",
        "    all_rows = df.collect()\n",
        "    batch_size = 10000\n",
        "  \n",
        "    for lower_bound in range(0,len(all_rows),batch_size):\n",
        "        upper_bound = lower_bound+batch_size\n",
        "        print(\"lower_bound:\",lower_bound)\n",
        "        print(\"upper_bound:\",upper_bound)\n",
        "        batch = all_rows[lower_bound:upper_bound]\n",
        "        asyncio.run(batch_seed(batch,source_data_bucket,storage_account,curr_date))\n",
        "\n",
        "pre_process(mpi_incoming_file_path)"
      ]
    }
  ],
  "metadata": {
    "description": null,
    "kernel_info": {
      "name": "synapse_pyspark"
    },
    "kernelspec": {
      "display_name": "Synapse PySpark",
      "language": "Python",
      "name": "synapse_pyspark"
    },
    "language_info": {
      "name": "python"
    },
    "save_output": true,
    "synapse_widget": {
      "state": {},
      "version": "0.1"
    }
  },
  "nbformat": 4,
  "nbformat_minor": 2
}
